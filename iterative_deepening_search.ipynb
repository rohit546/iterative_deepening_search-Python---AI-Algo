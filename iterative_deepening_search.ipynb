{
 "cells": [
  {
   "cell_type": "code",
   "execution_count": 2,
   "id": "ba3e0a60-f4eb-4876-bab3-3304aa2340ed",
   "metadata": {},
   "outputs": [],
   "source": [
    "import itertools\n",
    "import ast\n",
    "\n",
    "\n",
    "def load_synonyms_from_file(file_path):\n",
    "    \"\"\"\n",
    "    Reads synonym data from a text file and stores it in a dictionary.\n",
    "\n",
    "    Args:\n",
    "        file_path: The path to the text file containing synonym data.\n",
    "\n",
    "    Returns:\n",
    "        The dictionary containing word-synonym relationships.\n",
    "    \"\"\"\n",
    "\n",
    "    synonyms_dict = {}\n",
    "    with open(file_path, \"r\") as file:\n",
    "        # Read the entire file content\n",
    "        file_content = file.read()\n",
    "        # Extract the dictionary portion\n",
    "        dict_str = file_content.split('{', 1)[1].rsplit('}', 1)[0]\n",
    "        # Convert string representation of dictionary to a Python dictionary\n",
    "        synonyms_dict = ast.literal_eval('{' + dict_str + '}')\n",
    "    return synonyms_dict\n",
    "\n",
    "\n",
    "def iterative_deepening_search(word, synonyms_dict, depth, search_results):\n",
    "    \"\"\"\n",
    "    Performs iterative deepening search to find synonyms up to a given depth.\n",
    "    \"\"\"\n",
    "\n",
    "    for i in range(depth):\n",
    "        for synonyms in itertools.product(*[synonyms_dict.get(w, [w]) for w in word.split()]):\n",
    "            new_word = \" \".join(synonyms)\n",
    "            if new_word not in search_results:\n",
    "                search_results.append(new_word)\n",
    "                iterative_deepening_search(new_word, synonyms_dict, depth, search_results)\n",
    "\n",
    "\n",
    "def main():\n",
    "    synonyms_dict = load_synonyms_from_file(\"dic.txt\")  # Load the dictionary\n",
    "    word = input(\"Enter a word to search for synonyms: \")\n",
    "    search_results = []\n",
    "    for depth in range(1, 10):\n",
    "        iterative_deepening_search(word, synonyms_dict, depth, search_results)\n",
    "\n",
    "    with open(\"SearchResult.txt\", \"w\") as file:  # Correct file name\n",
    "        for synonym in search_results:\n",
    "            file.write(synonym + \"\\n\")\n",
    "\n",
    "    print(\"Synonyms found and saved to 'SearchResults.txt'.\")\n",
    "\n",
    "\n",
    "if __name__ == \"_main_\":\n",
    "    main()"
   ]
  },
  {
   "cell_type": "code",
   "execution_count": null,
   "id": "ee5243f5-2641-4f0c-9033-8355f9854686",
   "metadata": {},
   "outputs": [],
   "source": []
  }
 ],
 "metadata": {
  "kernelspec": {
   "display_name": "Python 3 (ipykernel)",
   "language": "python",
   "name": "python3"
  },
  "language_info": {
   "codemirror_mode": {
    "name": "ipython",
    "version": 3
   },
   "file_extension": ".py",
   "mimetype": "text/x-python",
   "name": "python",
   "nbconvert_exporter": "python",
   "pygments_lexer": "ipython3",
   "version": "3.11.7"
  }
 },
 "nbformat": 4,
 "nbformat_minor": 5
}
